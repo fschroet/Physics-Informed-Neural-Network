{
  "nbformat": 4,
  "nbformat_minor": 0,
  "metadata": {
    "colab": {
      "provenance": []
    },
    "kernelspec": {
      "name": "python3",
      "display_name": "Python 3"
    },
    "language_info": {
      "name": "python"
    }
  },
  "cells": [
    {
      "cell_type": "code",
      "source": [
        "import numpy as np\n",
        "import matplotlib.pyplot as plt\n",
        "import torch\n",
        "from torch.func import functional_call, grad\n",
        "from torch.utils.data import TensorDataset, DataLoader"
      ],
      "metadata": {
        "id": "zqao4e-2rwWw"
      },
      "execution_count": null,
      "outputs": []
    },
    {
      "cell_type": "markdown",
      "source": [
        "#Physics Informed Neural Networks (PINN)"
      ],
      "metadata": {
        "id": "O3v3SQYfripc"
      }
    },
    {
      "cell_type": "markdown",
      "source": [
        "### Solving Differential Equations with a neural network\n",
        "To solve:   $\\frac{df}{dt} = f(t)(1-f(t))$ \\\\\n",
        "Solution:   $f(t) = \\dfrac{1}{1+e^{-t}}$\n"
      ],
      "metadata": {
        "id": "uQXEUUTgr4TI"
      }
    },
    {
      "cell_type": "code",
      "source": [
        "f = lambda t: 1/(1+np.exp(-t))\n",
        "t = np.linspace(-5,5,1000)\n",
        "\n",
        "t_start_end = np.array([-5,5])\n",
        "y_start_end = f(t_start_end)\n",
        "\n",
        "plt.plot(t,f(t))\n",
        "plt.scatter(t_start_end,y_start_end, c=\"r\")\n",
        "plt.text(-4,0.9,\"f(t)=1/(1+exp(-t))\")"
      ],
      "metadata": {
        "colab": {
          "base_uri": "https://localhost:8080/",
          "height": 448
        },
        "id": "S408xpeHry0N",
        "outputId": "34b9c405-0e13-4bbf-c7a5-1f642769b499"
      },
      "execution_count": null,
      "outputs": [
        {
          "output_type": "execute_result",
          "data": {
            "text/plain": [
              "Text(-4, 0.9, 'f(t)=1/(1+exp(-t))')"
            ]
          },
          "metadata": {},
          "execution_count": 95
        },
        {
          "output_type": "display_data",
          "data": {
            "text/plain": [
              "<Figure size 640x480 with 1 Axes>"
            ],
            "image/png": "[encoded data removed]"
          },
          "metadata": {}
        }
      ]
    },
    {
      "cell_type": "markdown",
      "source": [
        "### Design simple Neural Network"
      ],
      "metadata": {
        "id": "JZZfZqXTuTA1"
      }
    },
    {
      "cell_type": "code",
      "source": [
        "class network(torch.nn.Module):\n",
        "  def __init__(self):\n",
        "    super().__init__()\n",
        "    self.lin1 = torch.nn.Linear(1,8)\n",
        "    self.lin2 = torch.nn.Linear(8,8)\n",
        "    self.lin3 = torch.nn.Linear(8,8)\n",
        "    self.lin4 = torch.nn.Linear(8,1)\n",
        "\n",
        "  def forward(self, t):\n",
        "\n",
        "    if type(t) != torch.Tensor:\n",
        "      t=torch.tensor([t]).float()\n",
        "\n",
        "    t = torch.nn.functional.tanh(self.lin1(t))\n",
        "    t = torch.nn.functional.tanh(self.lin2(t))\n",
        "    t = torch.nn.functional.tanh(self.lin3(t))\n",
        "    return self.lin4(t)"
      ],
      "metadata": {
        "id": "GERw1VYms701"
      },
      "execution_count": null,
      "outputs": []
    },
    {
      "cell_type": "markdown",
      "source": [
        "## Build the loss function\n",
        "\n",
        "compute loss on $M$ sample points in\n",
        "\n",
        "$\\text{physics_informed_loss} = ∑_{i=0}^M(\\frac{dnet}{dt_i} - net(t_i)(1-net(t_i)))^2 + (net(0) - 0.5)^2$\n",
        "\\\n",
        "\\\n",
        "$\\text{data_loss} = \\sum_{i=0}^N (net(p_i) - y_i)^2$\n",
        "\\\n",
        "\\\n",
        "$\\text{total_loss} = \\text{physics_informed_loss + data_loss}$"
      ],
      "metadata": {
        "id": "rkR25F46w8c-"
      }
    },
    {
      "cell_type": "code",
      "source": [
        "def pinn_loss(dnet, net, y):\n",
        "  inner = (dnet[0] - y * (1 - y))**2\n",
        "  boundary = (net(torch.tensor([0.0], requires_grad=True)) - 0.5)**2\n",
        "  return inner + boundary"
      ],
      "metadata": {
        "id": "Y1fRRQ8R0VGC"
      },
      "execution_count": null,
      "outputs": []
    },
    {
      "cell_type": "code",
      "source": [
        "X = torch.tensor(t.reshape(-1,1))\n",
        "y = f(X)\n",
        "\n",
        "batch_size = 64\n",
        "n_epochs = 1000\n",
        "\n",
        "train_data = TensorDataset(X,y)\n",
        "train_loader = DataLoader(train_data, batch_size=batch_size, shuffle=True)\n",
        "\n",
        "net = network()\n",
        "optimizer = torch.optim.Adam(net.parameters(), lr=0.01)\n",
        "lr_scheduler = torch.optim.lr_scheduler.LinearLR(optimizer, 1, 0.001, total_iters=n_epochs)\n",
        "data_Loss = torch.nn.MSELoss()"
      ],
      "metadata": {
        "colab": {
          "base_uri": "https://localhost:8080/"
        },
        "id": "ETGAGP4N7GCw",
        "outputId": "ac93430b-fea0-4da7-fc28-bd493071fbfb"
      },
      "execution_count": null,
      "outputs": [
        {
          "output_type": "stream",
          "name": "stderr",
          "text": [
            "<ipython-input-134-6796f93b02b4>:1: UserWarning: To copy construct from a tensor, it is recommended to use sourceTensor.clone().detach() or sourceTensor.clone().detach().requires_grad_(True), rather than torch.tensor(sourceTensor).\n",
            "  X = torch.tensor(t.reshape(-1,1))\n"
          ]
        }
      ]
    },
    {
      "cell_type": "code",
      "source": [
        "for epoch in range(n_epochs):\n",
        "  running_loss = 0\n",
        "\n",
        "  for t, y in train_loader:\n",
        "\n",
        "    t.requires_grad = True\n",
        "    o = net(t.float().reshape(-1,1))\n",
        "\n",
        "    dnet = torch.autograd.grad((oi for oi in o), t, retain_graph=True, create_graph=False)\n",
        "    intermediate_loss = pinn_loss(dnet, net, o)\n",
        "    loss_physics = torch.div(intermediate_loss, batch_size)\n",
        "\n",
        "    o_data = net(torch.tensor(t_start_end.reshape(2,1)).float())\n",
        "    loss_data = data_Loss(o_data.float().squeeze(), torch.tensor(y_start_end).float())\n",
        "\n",
        "\n",
        "    loss = torch.mean(loss_data + loss_physics)\n",
        "    running_loss += loss.item()\n",
        "\n",
        "    loss.backward()\n",
        "    optimizer.step()\n",
        "    lr_scheduler.step()\n",
        "\n",
        "    optimizer.zero_grad()\n",
        "\n",
        "\n",
        "  if epoch%100==0:\n",
        "    print(f\"epoch: {epoch} \\n\\t loss: {running_loss/100}\")"
      ],
      "metadata": {
        "colab": {
          "base_uri": "https://localhost:8080/"
        },
        "id": "LblHB1Qi9EZp",
        "outputId": "ea0f0319-1bdd-4181-9a1d-3ee834c249eb"
      },
      "execution_count": null,
      "outputs": [
        {
          "output_type": "stream",
          "name": "stdout",
          "text": [
            "epoch: 0 \n",
            "\t loss: 0.005006204849915573\n",
            "epoch: 100 \n",
            "\t loss: 6.050642684855604e-07\n",
            "epoch: 200 \n",
            "\t loss: 1.3774184573124369e-07\n",
            "epoch: 300 \n",
            "\t loss: 3.364329811479887e-08\n",
            "epoch: 400 \n",
            "\t loss: 1.7996605296911834e-08\n",
            "epoch: 500 \n",
            "\t loss: 1.3380040132301582e-08\n",
            "epoch: 600 \n",
            "\t loss: 1.1109141976984508e-08\n",
            "epoch: 700 \n",
            "\t loss: 9.754166462087026e-09\n",
            "epoch: 800 \n",
            "\t loss: 8.92450579308154e-09\n",
            "epoch: 900 \n",
            "\t loss: 8.463531014940301e-09\n"
          ]
        }
      ]
    },
    {
      "cell_type": "code",
      "source": [
        "domain = np.linspace(-5,5,100)\n",
        "plt.plot(domain,f(domain))\n",
        "plt.plot(domain,net(torch.tensor([domain]).float().reshape(100,1)).detach())\n",
        "plt.scatter(t_start_end,y_start_end, c=\"r\")"
      ],
      "metadata": {
        "colab": {
          "base_uri": "https://localhost:8080/",
          "height": 448
        },
        "id": "0PDCvKNRII8F",
        "outputId": "bbbc450a-b4e8-4ba0-c724-a376c9adf324"
      },
      "execution_count": null,
      "outputs": [
        {
          "output_type": "execute_result",
          "data": {
            "text/plain": [
              "<matplotlib.collections.PathCollection at 0x7c8d7ea730a0>"
            ]
          },
          "metadata": {},
          "execution_count": 137
        },
        {
          "output_type": "display_data",
          "data": {
            "text/plain": [
              "<Figure size 640x480 with 1 Axes>"
            ],
            "image/png": "[encoded data removed]"
          },
          "metadata": {}
        }
      ]
    },
    {
      "cell_type": "code",
      "source": [
        "!pip install pysr\n",
        "import pysr"
      ],
      "metadata": {
        "id": "Y2CNE_01IOGx",
        "colab": {
          "base_uri": "https://localhost:8080/"
        },
        "outputId": "b3fc7f50-bc23-4388-a788-368795a6a718",
        "collapsed": true
      },
      "execution_count": null,
      "outputs": [
        {
          "output_type": "stream",
          "name": "stdout",
          "text": [
            "Collecting pysr\n",
            "  Downloading pysr-0.18.4-py3-none-any.whl (76 kB)\n",
            "\u001b[?25l     \u001b[90m━━━━━━━━━━━━━━━━━━━━━━━━━━━━━━━━━━━━━━━━\u001b[0m \u001b[32m0.0/76.3 kB\u001b[0m \u001b[31m?\u001b[0m eta \u001b[36m-:--:--\u001b[0m\r\u001b[2K     \u001b[90m━━━━━━━━━━━━━━━━━━━━━━━━━━━━━━━━━━━━━━━━\u001b[0m \u001b[32m76.3/76.3 kB\u001b[0m \u001b[31m2.6 MB/s\u001b[0m eta \u001b[36m0:00:00\u001b[0m\n",
            "\u001b[?25hRequirement already satisfied: sympy<2.0.0,>=1.0.0 in /usr/local/lib/python3.10/dist-packages (from pysr) (1.12.1)\n",
            "Requirement already satisfied: pandas<3.0.0,>=0.21.0 in /usr/local/lib/python3.10/dist-packages (from pysr) (2.0.3)\n",
            "Requirement already satisfied: numpy<2.0.0,>=1.13.0 in /usr/local/lib/python3.10/dist-packages (from pysr) (1.25.2)\n",
            "Requirement already satisfied: scikit-learn<2.0.0,>=1.0.0 in /usr/local/lib/python3.10/dist-packages (from pysr) (1.2.2)\n",
            "Collecting juliacall==0.9.20 (from pysr)\n",
            "  Downloading juliacall-0.9.20-py3-none-any.whl (12 kB)\n",
            "Requirement already satisfied: click<9.0.0,>=7.0.0 in /usr/local/lib/python3.10/dist-packages (from pysr) (8.1.7)\n",
            "Requirement already satisfied: setuptools>=50.0.0 in /usr/local/lib/python3.10/dist-packages (from pysr) (67.7.2)\n",
            "Collecting juliapkg~=0.1.8 (from juliacall==0.9.20->pysr)\n",
            "  Downloading juliapkg-0.1.13-py3-none-any.whl (16 kB)\n",
            "Requirement already satisfied: python-dateutil>=2.8.2 in /usr/local/lib/python3.10/dist-packages (from pandas<3.0.0,>=0.21.0->pysr) (2.8.2)\n",
            "Requirement already satisfied: pytz>=2020.1 in /usr/local/lib/python3.10/dist-packages (from pandas<3.0.0,>=0.21.0->pysr) (2023.4)\n",
            "Requirement already satisfied: tzdata>=2022.1 in /usr/local/lib/python3.10/dist-packages (from pandas<3.0.0,>=0.21.0->pysr) (2024.1)\n",
            "Requirement already satisfied: scipy>=1.3.2 in /usr/local/lib/python3.10/dist-packages (from scikit-learn<2.0.0,>=1.0.0->pysr) (1.11.4)\n",
            "Requirement already satisfied: joblib>=1.1.1 in /usr/local/lib/python3.10/dist-packages (from scikit-learn<2.0.0,>=1.0.0->pysr) (1.4.2)\n",
            "Requirement already satisfied: threadpoolctl>=2.0.0 in /usr/local/lib/python3.10/dist-packages (from scikit-learn<2.0.0,>=1.0.0->pysr) (3.5.0)\n",
            "Requirement already satisfied: mpmath<1.4.0,>=1.1.0 in /usr/local/lib/python3.10/dist-packages (from sympy<2.0.0,>=1.0.0->pysr) (1.3.0)\n",
            "Collecting semver~=3.0 (from juliapkg~=0.1.8->juliacall==0.9.20->pysr)\n",
            "  Downloading semver-3.0.2-py3-none-any.whl (17 kB)\n",
            "Requirement already satisfied: six>=1.5 in /usr/local/lib/python3.10/dist-packages (from python-dateutil>=2.8.2->pandas<3.0.0,>=0.21.0->pysr) (1.16.0)\n",
            "Installing collected packages: semver, juliapkg, juliacall, pysr\n",
            "Successfully installed juliacall-0.9.20 juliapkg-0.1.13 pysr-0.18.4 semver-3.0.2\n"
          ]
        },
        {
          "output_type": "stream",
          "name": "stderr",
          "text": [
            "/usr/local/lib/python3.10/dist-packages/juliacall/__init__.py:60: UserWarning: torch was imported before juliacall. This may cause a segfault. To avoid this, import juliacall before importing torch. For updates, see https://github.com/pytorch/pytorch/issues/78829.\n",
            "  warnings.warn(\n"
          ]
        },
        {
          "output_type": "stream",
          "name": "stdout",
          "text": [
            "[juliapkg] Found dependencies: /usr/local/lib/python3.10/dist-packages/pysr/juliapkg.json\n",
            "[juliapkg] Found dependencies: /usr/local/lib/python3.10/dist-packages/juliacall/juliapkg.json\n",
            "[juliapkg] Found dependencies: /usr/local/lib/python3.10/dist-packages/juliapkg/juliapkg.json\n",
            "[juliapkg] Locating Julia ~1.6.7, ~1.7, ~1.8, ~1.9, =1.10.0, ^1.10.3\n",
            "[juliapkg] Querying Julia versions from https://julialang-s3.julialang.org/bin/versions.json\n",
            "[juliapkg] WARNING: About to install Julia 1.10.4 to /root/.julia/environments/pyjuliapkg/pyjuliapkg/install.\n",
            "[juliapkg]   If you use juliapkg in more than one environment, you are likely to\n",
            "[juliapkg]   have Julia installed in multiple locations. It is recommended to\n",
            "[juliapkg]   install JuliaUp (https://github.com/JuliaLang/juliaup) or Julia\n",
            "[juliapkg]   (https://julialang.org/downloads) yourself.\n",
            "[juliapkg] Downloading Julia from https://julialang-s3.julialang.org/bin/linux/x64/1.10/julia-1.10.4-linux-x86_64.tar.gz\n",
            "             download complete\n",
            "[juliapkg] Verifying download\n",
            "[juliapkg] Installing Julia 1.10.4 to /root/.julia/environments/pyjuliapkg/pyjuliapkg/install\n",
            "[juliapkg] Using Julia 1.10.4 at /root/.julia/environments/pyjuliapkg/pyjuliapkg/install/bin/julia\n",
            "[juliapkg] Using Julia project at /root/.julia/environments/pyjuliapkg\n",
            "[juliapkg] Installing packages:\n",
            "           julia> import Pkg\n",
            "           julia> Pkg.Registry.update()\n",
            "           julia> Pkg.add([Pkg.PackageSpec(name=\"SymbolicRegression\", uuid=\"8254be44-1295-4e6a-a16d-46603ac705cb\"), Pkg.PackageSpec(name=\"Serialization\", uuid=\"9e88b42a-f829-5b0c-bbe9-9e923198166b\"), Pkg.PackageSpec(name=\"PythonCall\", uuid=\"6099a3de-0909-46bc-b1f4-468b9a2dfc0d\")])\n",
            "           julia> Pkg.resolve()\n",
            "           julia> Pkg.precompile()\n",
            "Detected IPython. Loading juliacall extension. See https://juliapy.github.io/PythonCall.jl/stable/compat/#IPython\n"
          ]
        }
      ]
    },
    {
      "cell_type": "code",
      "source": [
        "model = pysr.PySRRegressor(\n",
        "    niterations=40,  # < Increase me for better results\n",
        "    binary_operators=[\"+\", \"*\"],\n",
        "    unary_operators=[\n",
        "        \"exp\",\n",
        "        \"inv(x) = 1/x\",\n",
        "        \"cos\"\n",
        "        # ^ Custom operator (julia syntax)\n",
        "    ],\n",
        "    extra_sympy_mappings={\"inv\": lambda x: 1 / x},\n",
        "    # ^ Define operator for SymPy as well\n",
        "    elementwise_loss=\"loss(prediction, target) = (prediction - target)^2\",\n",
        "    # ^ Custom loss function (julia syntax)\n",
        ")"
      ],
      "metadata": {
        "id": "I0iwXOdji2mt"
      },
      "execution_count": null,
      "outputs": []
    },
    {
      "cell_type": "code",
      "source": [
        "X = np.linspace(-5,5,500)\n",
        "model.fit(X.reshape(500,1), net(torch.tensor(X.reshape(500,1)).float()).detach())"
      ],
      "metadata": {
        "colab": {
          "base_uri": "https://localhost:8080/",
          "height": 1000
        },
        "id": "01M66PHskQCQ",
        "outputId": "0257f183-6c94-4197-91fd-79b7338fd6d6"
      },
      "execution_count": null,
      "outputs": [
        {
          "output_type": "stream",
          "name": "stderr",
          "text": [
            "/usr/local/lib/python3.10/dist-packages/pysr/sr.py:1307: UserWarning: Note: it looks like you are running in Jupyter. The progress bar will be turned off.\n",
            "  warnings.warn(\n"
          ]
        },
        {
          "output_type": "stream",
          "name": "stdout",
          "text": [
            "Compiling Julia backend...\n"
          ]
        },
        {
          "output_type": "stream",
          "name": "stderr",
          "text": [
            "[ Info: Started!\n"
          ]
        },
        {
          "output_type": "stream",
          "name": "stdout",
          "text": [
            "\n",
            "Expressions evaluated per second: 4.050e+04\n",
            "Head worker occupation: 10.3%\n",
            "Progress: 85 / 600 total iterations (14.167%)\n",
            "====================================================================================================\n",
            "Hall of Fame:\n",
            "---------------------------------------------------------------------------------------------------\n",
            "Complexity  Loss       Score     Equation\n",
            "2           1.492e-01  7.971e+00  y = cos(1.0486)\n",
            "4           1.316e-01  6.287e-02  y = cos(cos(exp(x₀)))\n",
            "5           8.243e-02  4.679e-01  y = cos(exp(x₀ * -0.19488))\n",
            "6           3.633e-03  3.122e+00  y = exp(inv(-1.4606 * exp(x₀)))\n",
            "7           6.754e-04  1.682e+00  y = inv(exp(inv(exp(x₀) + 0.28952)))\n",
            "8           5.460e-04  2.126e-01  y = inv(exp(inv(inv(3.1059) + exp(x₀))))\n",
            "9           4.238e-04  2.533e-01  y = inv(exp(inv(exp(0.17438 + x₀) + 0.2624)))\n",
            "10          3.553e-04  1.763e-01  y = inv(exp(inv(exp(x₀) + 0.2624) * inv(1.1509)))\n",
            "12          2.480e-04  1.798e-01  y = inv(exp(inv(exp((x₀ + exp(x₀ * 0.43222)) * 0.43222))))\n",
            "14          2.018e-04  1.030e-01  y = inv(exp(inv((-0.36555 + cos(cos(cos(cos(inv(x₀)))))) + exp...\n",
            "                                  (x₀))))\n",
            "15          1.884e-04  6.914e-02  y = inv(exp(exp(-0.67778 * (x₀ + cos(cos(cos(exp(cos(-0.67778)...\n",
            "                                  )) * x₀))))))\n",
            "16          9.954e-05  6.378e-01  y = inv(exp(inv(cos(cos((x₀ * 0.10586) + 1.074)) + (inv(-2.317...\n",
            "                                  1) + exp(x₀)))))\n",
            "18          5.951e-05  2.572e-01  y = inv(exp(inv(exp(0.43465 + (-1.501 + ((x₀ * cos(inv(0.70743...\n",
            "                                  ))) + 0.29217))) + exp(x₀))))\n",
            "19          2.446e-05  8.892e-01  y = inv(exp(((x₀ + -0.054099) + x₀) * inv(-2.1219)) + (inv(exp...\n",
            "                                  (cos(exp(inv(-1.3282))))) + 0.58433))\n",
            "---------------------------------------------------------------------------------------------------\n",
            "====================================================================================================\n",
            "Press 'q' and then <enter> to stop execution early.\n",
            "\n",
            "Expressions evaluated per second: 3.740e+04\n",
            "Head worker occupation: 7.2%\n",
            "Progress: 178 / 600 total iterations (29.667%)\n",
            "====================================================================================================\n",
            "Hall of Fame:\n",
            "---------------------------------------------------------------------------------------------------\n",
            "Complexity  Loss       Score     Equation\n",
            "2           1.492e-01  7.971e+00  y = cos(1.0486)\n",
            "4           1.316e-01  6.287e-02  y = cos(cos(exp(x₀)))\n",
            "5           9.098e-03  2.672e+00  y = (x₀ * 0.12751) + 0.45671\n",
            "6           2.242e-03  1.401e+00  y = inv(1.0963 + inv(exp(x₀)))\n",
            "7           3.701e-05  4.104e+00  y = inv(cos(0.012427) + inv(exp(x₀)))\n",
            "8           1.528e-05  8.846e-01  y = inv(exp(-0.9673 * x₀) + cos(0.040104))\n",
            "10          1.285e-05  8.654e-02  y = inv(exp(-0.0035121) + exp(-0.95852 * x₀)) + -0.0035121\n",
            "11          1.160e-05  1.022e-01  y = inv(cos(inv(9.7443)) + exp(x₀ * -0.95852)) + -0.0035121\n",
            "17          1.156e-05  5.410e-04  y = inv(exp(x₀ * -0.95739) + exp(-0.0055757)) + (inv(cos(cos(e...\n",
            "                                  xp(cos(-0.0035123))))) * -0.0021146)\n",
            "19          1.127e-05  1.287e-02  y = inv(exp(-0.0057232) + exp((-1.2771 * ((inv(x₀) + -0.010802...\n",
            "                                  ) * (inv(inv(x₀)) * 0.75003))) * x₀))\n",
            "---------------------------------------------------------------------------------------------------\n",
            "====================================================================================================\n",
            "Press 'q' and then <enter> to stop execution early.\n",
            "\n",
            "Expressions evaluated per second: 4.540e+04\n",
            "Head worker occupation: 8.9%\n",
            "Progress: 312 / 600 total iterations (52.000%)\n",
            "====================================================================================================\n",
            "Hall of Fame:\n",
            "---------------------------------------------------------------------------------------------------\n",
            "Complexity  Loss       Score     Equation\n",
            "1           7.088e+00  1.594e+01  y = -2.1353\n",
            "2           1.492e-01  3.861e+00  y = cos(1.0486)\n",
            "4           1.316e-01  6.287e-02  y = cos(cos(exp(x₀)))\n",
            "5           7.273e-03  2.896e+00  y = 0.50145 + (x₀ * 0.13026)\n",
            "6           1.591e-04  3.823e+00  y = inv(1.026 + inv(exp(x₀)))\n",
            "7           2.817e-05  1.731e+00  y = inv(inv(exp(x₀)) + exp(0.0053581))\n",
            "8           1.492e-05  6.355e-01  y = inv(cos(-0.0021146) + exp(-0.9673 * x₀))\n",
            "9           1.492e-05  5.830e-05  y = inv(inv(cos(-0.0021146)) + exp(-0.9673 * x₀))\n",
            "10          1.159e-05  2.525e-01  y = inv(exp(-0.9568 * x₀) + exp(-0.006183)) + -0.0036116\n",
            "12          1.158e-05  4.711e-04  y = inv(exp(-1.1157 * (x₀ * 0.85918)) + exp(-0.0054936)) + -0....\n",
            "                                  0034361\n",
            "13          1.157e-05  5.616e-04  y = (inv(0.59613) * -0.0021146) + inv(exp(x₀ * -0.95739) + exp...\n",
            "                                  (-0.0055757))\n",
            "14          1.157e-05  1.389e-04  y = (inv(exp(-0.46685)) * -0.0021146) + inv(exp(x₀ * -0.95739)...\n",
            "                                   + exp(-0.0055757))\n",
            "15          1.145e-05  1.028e-02  y = (inv(0.59613) * -0.0021146) + inv(exp((x₀ * -0.95739) + -0...\n",
            "                                  .0021146) + exp(-0.0055757))\n",
            "16          1.108e-05  3.281e-02  y = (-0.0021146 * (cos(x₀) * x₀)) + inv(exp(-0.95739 * x₀) + i...\n",
            "                                  nv(exp(-0.0021146)))\n",
            "---------------------------------------------------------------------------------------------------\n",
            "====================================================================================================\n",
            "Press 'q' and then <enter> to stop execution early.\n",
            "\n",
            "Expressions evaluated per second: 4.540e+04\n",
            "Head worker occupation: 10.1%\n",
            "Progress: 405 / 600 total iterations (67.500%)\n",
            "====================================================================================================\n",
            "Hall of Fame:\n",
            "---------------------------------------------------------------------------------------------------\n",
            "Complexity  Loss       Score     Equation\n",
            "1           7.088e+00  1.594e+01  y = -2.1353\n",
            "2           1.492e-01  3.861e+00  y = cos(1.0486)\n",
            "4           1.316e-01  6.287e-02  y = cos(cos(exp(x₀)))\n",
            "5           7.266e-03  2.897e+00  y = 0.13031 * (3.8281 + x₀)\n",
            "6           1.591e-04  3.822e+00  y = inv(1.026 + inv(exp(x₀)))\n",
            "7           1.473e-05  2.380e+00  y = inv(exp(-0.97081 * x₀) + 1.0006)\n",
            "10          1.158e-05  8.015e-02  y = -0.0035733 + inv(exp(-0.95769 * x₀) + exp(-0.0055474))\n",
            "12          1.158e-05  6.139e-06  y = inv(exp(-1.1157 * (x₀ * 0.85918)) + exp(-0.0054936)) + -0....\n",
            "                                  0034361\n",
            "13          1.157e-05  5.616e-04  y = (inv(0.59613) * -0.0021146) + inv(exp(x₀ * -0.95739) + exp...\n",
            "                                  (-0.0055757))\n",
            "14          1.157e-05  5.946e-04  y = (0.0047829 * -0.71415) + inv(exp(x₀ * inv(inv(-0.95739))) ...\n",
            "                                  + exp(-0.0055757))\n",
            "15          1.145e-05  1.031e-02  y = (inv(0.59613) * -0.0021146) + inv(exp((x₀ * -0.95739) + -0...\n",
            "                                  .0026816) + exp(-0.0055757))\n",
            "16          1.108e-05  3.233e-02  y = (-0.0021146 * (cos(x₀) * x₀)) + inv(exp(-0.95739 * x₀) + i...\n",
            "                                  nv(exp(-0.0021146)))\n",
            "18          1.045e-05  2.961e-02  y = -0.0021146 + inv(exp((-0.95739 + ((-0.0021146 * x₀) * x₀))...\n",
            "                                   * x₀) + cos(-0.0021146 * x₀))\n",
            "---------------------------------------------------------------------------------------------------\n",
            "====================================================================================================\n",
            "Press 'q' and then <enter> to stop execution early.\n",
            "\n",
            "Expressions evaluated per second: 4.880e+04\n",
            "Head worker occupation: 11.0%\n",
            "Progress: 526 / 600 total iterations (87.667%)\n",
            "====================================================================================================\n",
            "Hall of Fame:\n",
            "---------------------------------------------------------------------------------------------------\n",
            "Complexity  Loss       Score     Equation\n",
            "1           7.088e+00  1.594e+01  y = -2.1353\n",
            "2           1.492e-01  3.861e+00  y = cos(1.0486)\n",
            "4           1.316e-01  6.287e-02  y = cos(cos(exp(x₀)))\n",
            "5           7.266e-03  2.897e+00  y = 0.49877 + (0.13026 * x₀)\n",
            "6           3.481e-05  5.341e+00  y = inv(1.0006 + inv(exp(x₀)))\n",
            "7           1.473e-05  8.603e-01  y = inv(exp(-0.97081 * x₀) + 1.0006)\n",
            "10          1.156e-05  8.064e-02  y = -0.0034542 + inv(exp(-0.0055641) + exp(-0.95771 * x₀))\n",
            "14          1.156e-05  3.845e-06  y = (-0.0031307 * 1.1057) + inv(exp(x₀ * -0.95756) + exp(-0.01...\n",
            "                                  1497 * 0.4871))\n",
            "15          1.145e-05  1.001e-02  y = (inv(0.59613) * -0.0021146) + inv(exp((x₀ * -0.95739) + -0...\n",
            "                                  .0026816) + exp(-0.0055757))\n",
            "16          1.046e-05  9.022e-02  y = -0.0021146 + inv(exp((-0.95739 + ((-0.0021146 * x₀) * x₀))...\n",
            "                                   * x₀) + cos(-0.0034361))\n",
            "18          9.774e-06  3.388e-02  y = -0.0021146 + inv(exp((-0.95739 + ((-0.0021146 * x₀) * x₀))...\n",
            "                                   * x₀) + cos(-0.0021146 + 0.05497))\n",
            "20          9.737e-06  1.907e-03  y = -0.0021146 + inv(exp((-0.95739 + ((-0.0021146 * x₀) * (x₀ ...\n",
            "                                  * 1.1084))) * x₀) + cos(-0.0021146 + 0.05497))\n",
            "---------------------------------------------------------------------------------------------------\n",
            "====================================================================================================\n",
            "Press 'q' and then <enter> to stop execution early.\n"
          ]
        },
        {
          "output_type": "execute_result",
          "data": {
            "text/plain": [
              "PySRRegressor.equations_ = [\n",
              "\t    pick         score                                           equation  \\\n",
              "\t0         0.000000e+00                                         -2.1353068   \n",
              "\t1         3.860558e+00                                     cos(1.0486151)   \n",
              "\t2         6.287356e-02                                  cos(cos(exp(x0)))   \n",
              "\t3         2.896598e+00                     0.49876526 + (0.13026361 * x0)   \n",
              "\t4         5.341030e+00                      inv(1.0006227 + inv(exp(x0)))   \n",
              "\t5         8.602679e-01             inv(exp(-0.97080785 * x0) + 1.0006227)   \n",
              "\t6         8.063553e-02  -0.0034542466 + inv(exp(-0.005564139) + exp(-0...   \n",
              "\t7         1.729765e-07  -0.0034542466 + inv(exp(-0.005564139) + exp(in...   \n",
              "\t8         7.567782e-06  (-0.0031307088 * 1.105742) + inv(exp(x0 * -0.9...   \n",
              "\t9         1.200535e-02  (exp(0.59612787) * -0.0021146452) + inv(exp((x...   \n",
              "\t10  >>>>  8.822233e-02  -0.0021146452 + inv(exp((-0.9573867 + ((-0.002...   \n",
              "\t11        3.495830e-02  -0.0021146452 + inv(exp((-0.9573867 + ((-0.002...   \n",
              "\t12        8.283699e-04  -0.0021146452 + inv(exp((-0.9573867 + ((-0.002...   \n",
              "\t\n",
              "\t        loss  complexity  \n",
              "\t0   7.087574           1  \n",
              "\t1   0.149238           2  \n",
              "\t2   0.131604           4  \n",
              "\t3   0.007266           5  \n",
              "\t4   0.000035           6  \n",
              "\t5   0.000015           7  \n",
              "\t6   0.000012          10  \n",
              "\t7   0.000012          12  \n",
              "\t8   0.000012          14  \n",
              "\t9   0.000011          15  \n",
              "\t10  0.000010          16  \n",
              "\t11  0.000010          18  \n",
              "\t12  0.000010          20  \n",
              "]"
            ],
            "text/html": [
              "<style>#sk-container-id-1 {color: black;background-color: white;}#sk-container-id-1 pre{padding: 0;}#sk-container-id-1 div.sk-toggleable {background-color: white;}#sk-container-id-1 label.sk-toggleable__label {cursor: pointer;display: block;width: 100%;margin-bottom: 0;padding: 0.3em;box-sizing: border-box;text-align: center;}#sk-container-id-1 label.sk-toggleable__label-arrow:before {content: \"▸\";float: left;margin-right: 0.25em;color: #696969;}#sk-container-id-1 label.sk-toggleable__label-arrow:hover:before {color: black;}#sk-container-id-1 div.sk-estimator:hover label.sk-toggleable__label-arrow:before {color: black;}#sk-container-id-1 div.sk-toggleable__content {max-height: 0;max-width: 0;overflow: hidden;text-align: left;background-color: #f0f8ff;}#sk-container-id-1 div.sk-toggleable__content pre {margin: 0.2em;color: black;border-radius: 0.25em;background-color: #f0f8ff;}#sk-container-id-1 input.sk-toggleable__control:checked~div.sk-toggleable__content {max-height: 200px;max-width: 100%;overflow: auto;}#sk-container-id-1 input.sk-toggleable__control:checked~label.sk-toggleable__label-arrow:before {content: \"▾\";}#sk-container-id-1 div.sk-estimator input.sk-toggleable__control:checked~label.sk-toggleable__label {background-color: #d4ebff;}#sk-container-id-1 div.sk-label input.sk-toggleable__control:checked~label.sk-toggleable__label {background-color: #d4ebff;}#sk-container-id-1 input.sk-hidden--visually {border: 0;clip: rect(1px 1px 1px 1px);clip: rect(1px, 1px, 1px, 1px);height: 1px;margin: -1px;overflow: hidden;padding: 0;position: absolute;width: 1px;}#sk-container-id-1 div.sk-estimator {font-family: monospace;background-color: #f0f8ff;border: 1px dotted black;border-radius: 0.25em;box-sizing: border-box;margin-bottom: 0.5em;}#sk-container-id-1 div.sk-estimator:hover {background-color: #d4ebff;}#sk-container-id-1 div.sk-parallel-item::after {content: \"\";width: 100%;border-bottom: 1px solid gray;flex-grow: 1;}#sk-container-id-1 div.sk-label:hover label.sk-toggleable__label {background-color: #d4ebff;}#sk-container-id-1 div.sk-serial::before {content: \"\";position: absolute;border-left: 1px solid gray;box-sizing: border-box;top: 0;bottom: 0;left: 50%;z-index: 0;}#sk-container-id-1 div.sk-serial {display: flex;flex-direction: column;align-items: center;background-color: white;padding-right: 0.2em;padding-left: 0.2em;position: relative;}#sk-container-id-1 div.sk-item {position: relative;z-index: 1;}#sk-container-id-1 div.sk-parallel {display: flex;align-items: stretch;justify-content: center;background-color: white;position: relative;}#sk-container-id-1 div.sk-item::before, #sk-container-id-1 div.sk-parallel-item::before {content: \"\";position: absolute;border-left: 1px solid gray;box-sizing: border-box;top: 0;bottom: 0;left: 50%;z-index: -1;}#sk-container-id-1 div.sk-parallel-item {display: flex;flex-direction: column;z-index: 1;position: relative;background-color: white;}#sk-container-id-1 div.sk-parallel-item:first-child::after {align-self: flex-end;width: 50%;}#sk-container-id-1 div.sk-parallel-item:last-child::after {align-self: flex-start;width: 50%;}#sk-container-id-1 div.sk-parallel-item:only-child::after {width: 0;}#sk-container-id-1 div.sk-dashed-wrapped {border: 1px dashed gray;margin: 0 0.4em 0.5em 0.4em;box-sizing: border-box;padding-bottom: 0.4em;background-color: white;}#sk-container-id-1 div.sk-label label {font-family: monospace;font-weight: bold;display: inline-block;line-height: 1.2em;}#sk-container-id-1 div.sk-label-container {text-align: center;}#sk-container-id-1 div.sk-container {/* jupyter's `normalize.less` sets `[hidden] { display: none; }` but bootstrap.min.css set `[hidden] { display: none !important; }` so we also need the `!important` here to be able to override the default hidden behavior on the sphinx rendered scikit-learn.org. See: https://github.com/scikit-learn/scikit-learn/issues/21755 */display: inline-block !important;position: relative;}#sk-container-id-1 div.sk-text-repr-fallback {display: none;}</style><div id=\"sk-container-id-1\" class=\"sk-top-container\"><div class=\"sk-text-repr-fallback\"><pre>PySRRegressor.equations_ = [\n",
              "\t    pick         score                                           equation  \\\n",
              "\t0         0.000000e+00                                         -2.1353068   \n",
              "\t1         3.860558e+00                                     cos(1.0486151)   \n",
              "\t2         6.287356e-02                                  cos(cos(exp(x0)))   \n",
              "\t3         2.896598e+00                     0.49876526 + (0.13026361 * x0)   \n",
              "\t4         5.341030e+00                      inv(1.0006227 + inv(exp(x0)))   \n",
              "\t5         8.602679e-01             inv(exp(-0.97080785 * x0) + 1.0006227)   \n",
              "\t6         8.063553e-02  -0.0034542466 + inv(exp(-0.005564139) + exp(-0...   \n",
              "\t7         1.729765e-07  -0.0034542466 + inv(exp(-0.005564139) + exp(in...   \n",
              "\t8         7.567782e-06  (-0.0031307088 * 1.105742) + inv(exp(x0 * -0.9...   \n",
              "\t9         1.200535e-02  (exp(0.59612787) * -0.0021146452) + inv(exp((x...   \n",
              "\t10  &gt;&gt;&gt;&gt;  8.822233e-02  -0.0021146452 + inv(exp((-0.9573867 + ((-0.002...   \n",
              "\t11        3.495830e-02  -0.0021146452 + inv(exp((-0.9573867 + ((-0.002...   \n",
              "\t12        8.283699e-04  -0.0021146452 + inv(exp((-0.9573867 + ((-0.002...   \n",
              "\t\n",
              "\t        loss  complexity  \n",
              "\t0   7.087574           1  \n",
              "\t1   0.149238           2  \n",
              "\t2   0.131604           4  \n",
              "\t3   0.007266           5  \n",
              "\t4   0.000035           6  \n",
              "\t5   0.000015           7  \n",
              "\t6   0.000012          10  \n",
              "\t7   0.000012          12  \n",
              "\t8   0.000012          14  \n",
              "\t9   0.000011          15  \n",
              "\t10  0.000010          16  \n",
              "\t11  0.000010          18  \n",
              "\t12  0.000010          20  \n",
              "]</pre><b>In a Jupyter environment, please rerun this cell to show the HTML representation or trust the notebook. <br />On GitHub, the HTML representation is unable to render, please try loading this page with nbviewer.org.</b></div><div class=\"sk-container\" hidden><div class=\"sk-item\"><div class=\"sk-estimator sk-toggleable\"><input class=\"sk-toggleable__control sk-hidden--visually\" id=\"sk-estimator-id-1\" type=\"checkbox\" checked><label for=\"sk-estimator-id-1\" class=\"sk-toggleable__label sk-toggleable__label-arrow\">PySRRegressor</label><div class=\"sk-toggleable__content\"><pre>PySRRegressor.equations_ = [\n",
              "\t    pick         score                                           equation  \\\n",
              "\t0         0.000000e+00                                         -2.1353068   \n",
              "\t1         3.860558e+00                                     cos(1.0486151)   \n",
              "\t2         6.287356e-02                                  cos(cos(exp(x0)))   \n",
              "\t3         2.896598e+00                     0.49876526 + (0.13026361 * x0)   \n",
              "\t4         5.341030e+00                      inv(1.0006227 + inv(exp(x0)))   \n",
              "\t5         8.602679e-01             inv(exp(-0.97080785 * x0) + 1.0006227)   \n",
              "\t6         8.063553e-02  -0.0034542466 + inv(exp(-0.005564139) + exp(-0...   \n",
              "\t7         1.729765e-07  -0.0034542466 + inv(exp(-0.005564139) + exp(in...   \n",
              "\t8         7.567782e-06  (-0.0031307088 * 1.105742) + inv(exp(x0 * -0.9...   \n",
              "\t9         1.200535e-02  (exp(0.59612787) * -0.0021146452) + inv(exp((x...   \n",
              "\t10  &gt;&gt;&gt;&gt;  8.822233e-02  -0.0021146452 + inv(exp((-0.9573867 + ((-0.002...   \n",
              "\t11        3.495830e-02  -0.0021146452 + inv(exp((-0.9573867 + ((-0.002...   \n",
              "\t12        8.283699e-04  -0.0021146452 + inv(exp((-0.9573867 + ((-0.002...   \n",
              "\t\n",
              "\t        loss  complexity  \n",
              "\t0   7.087574           1  \n",
              "\t1   0.149238           2  \n",
              "\t2   0.131604           4  \n",
              "\t3   0.007266           5  \n",
              "\t4   0.000035           6  \n",
              "\t5   0.000015           7  \n",
              "\t6   0.000012          10  \n",
              "\t7   0.000012          12  \n",
              "\t8   0.000012          14  \n",
              "\t9   0.000011          15  \n",
              "\t10  0.000010          16  \n",
              "\t11  0.000010          18  \n",
              "\t12  0.000010          20  \n",
              "]</pre></div></div></div></div></div>"
            ]
          },
          "metadata": {},
          "execution_count": 106
        }
      ]
    },
    {
      "cell_type": "code",
      "source": [],
      "metadata": {
        "id": "JX0YG5LIkqDT"
      },
      "execution_count": null,
      "outputs": []
    }
  ]
}